{
  "nbformat": 4,
  "nbformat_minor": 0,
  "metadata": {
    "colab": {
      "provenance": [],
      "authorship_tag": "ABX9TyMa4choay3Gycv53NoSPI5w",
      "include_colab_link": true
    },
    "kernelspec": {
      "name": "python3",
      "display_name": "Python 3"
    },
    "language_info": {
      "name": "python"
    }
  },
  "cells": [
    {
      "cell_type": "markdown",
      "metadata": {
        "id": "view-in-github",
        "colab_type": "text"
      },
      "source": [
        "<a href=\"https://colab.research.google.com/github/sneha1012/Deep-Learning/blob/main/vectorisation1.ipynb\" target=\"_parent\"><img src=\"https://colab.research.google.com/assets/colab-badge.svg\" alt=\"Open In Colab\"/></a>"
      ]
    },
    {
      "cell_type": "code",
      "execution_count": null,
      "metadata": {
        "colab": {
          "base_uri": "https://localhost:8080/"
        },
        "id": "uKrhGiRHpvHD",
        "outputId": "b4a60a57-b612-4546-f13c-a45f36d7377d"
      },
      "outputs": [
        {
          "output_type": "stream",
          "name": "stdout",
          "text": [
            "[1 2 3 4]\n"
          ]
        }
      ],
      "source": [
        "import numpy as np\n",
        "\n",
        "a = np.array([1,2,3,4])\n",
        "print(a)"
      ]
    },
    {
      "cell_type": "code",
      "source": [
        "import time\n",
        "a = np.random.rand(1000000)\n",
        "b = np.random.rand(1000000)\n",
        "\n",
        "tic= time.time() #record current time before performing the dot function\n",
        "c = np.dot(a,b)  #dot proucts of two arrays a and b\n",
        "toc= time.time() #time after performing the dot function\n",
        "\n",
        "print (\"Vectorised version:\" ,str(1000*(toc-tic)) +\"ms\")\n",
        "\n",
        "#implementing not vectorised version with for loops\n",
        "c= 0\n",
        "tic = time.time()\n",
        "for i in range(1000000):\n",
        "  c += a[i]*b[i]\n",
        "toc = time.time()\n",
        "\n",
        "print(c)\n",
        "print(\"for loop\" + str(1000*(toc-tic)) + \"ms\")\n"
      ],
      "metadata": {
        "colab": {
          "base_uri": "https://localhost:8080/"
        },
        "id": "sOa3cffEqNt5",
        "outputId": "b78a0535-4d7a-4412-b3ba-ea5ac97c95ce"
      },
      "execution_count": null,
      "outputs": [
        {
          "output_type": "stream",
          "name": "stdout",
          "text": [
            "Vectorised version: 1.4209747314453125ms\n",
            "249999.56269600344\n",
            "for loop804.2900562286377ms\n"
          ]
        }
      ]
    },
    {
      "cell_type": "code",
      "source": [],
      "metadata": {
        "id": "9DeLQ5XNsR4J"
      },
      "execution_count": null,
      "outputs": []
    }
  ]
}